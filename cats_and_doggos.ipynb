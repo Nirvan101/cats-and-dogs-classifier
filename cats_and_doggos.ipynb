{
 "cells": [
  {
   "cell_type": "code",
   "execution_count": 1,
   "metadata": {
    "_uuid": "3f0d3d3c42e2581eceed7058cabf74ab6f4b9db1",
    "collapsed": true
   },
   "outputs": [],
   "source": [
    "import pandas as pd\n",
    "import numpy as np"
   ]
  },
  {
   "cell_type": "code",
   "execution_count": 2,
   "metadata": {
    "_uuid": "4c4f3af877a6178889dd257502c746d08280ae2c",
    "collapsed": true
   },
   "outputs": [],
   "source": [
    "import os"
   ]
  },
  {
   "cell_type": "code",
   "execution_count": 3,
   "metadata": {
    "_uuid": "d40b8cc3061126b371c7761ef180661b88253357",
    "collapsed": true
   },
   "outputs": [],
   "source": [
    "import cv2"
   ]
  },
  {
   "cell_type": "code",
   "execution_count": 4,
   "metadata": {
    "_uuid": "bd68e92f783d83fbe23647f3ce0465640d8b7f4d"
   },
   "outputs": [
    {
     "name": "stderr",
     "output_type": "stream",
     "text": [
      "Using TensorFlow backend.\n"
     ]
    }
   ],
   "source": [
    "from sklearn.model_selection import train_test_split\n",
    "from sklearn.metrics import confusion_matrix\n",
    "import itertools\n",
    "\n",
    "from keras.utils.np_utils import to_categorical # convert to one-hot-encoding\n",
    "from keras.models import Sequential\n",
    "from keras.layers import Dense, Dropout, Flatten, Conv2D, MaxPool2D\n",
    "from keras.optimizers import RMSprop\n",
    "from keras.preprocessing.image import ImageDataGenerator\n",
    "from keras.callbacks import ReduceLROnPlateau"
   ]
  },
  {
   "cell_type": "code",
   "execution_count": 5,
   "metadata": {
    "_uuid": "bd7d0620e3e6b474e4f99b942695ad2e22a80f73",
    "collapsed": true
   },
   "outputs": [],
   "source": [
    "#get labels and images for 5000 dogs and 5000 cats.    dog=1   cat=0\n",
    "labels = []\n",
    "train_X= []\n",
    "\n",
    "\n",
    "ROWS=128\n",
    "COLS=128\n",
    "\n",
    "cat_count=0\n",
    "dog_count=0\n",
    "\n",
    "cnt=8000\n",
    "\n",
    "for i in os.listdir('train'):\n",
    "    if 'dog' in i:\n",
    "        if dog_count >= cnt:\n",
    "            break\n",
    "        dog_count+=1    \n",
    "        labels.append(1)\n",
    "        img = cv2.imread( 'train/' + i,cv2.IMREAD_COLOR)\n",
    "        img = cv2.resize(img , (ROWS,COLS) , interpolation=cv2.INTER_CUBIC)\n",
    "        #img = np.expand_dims(img, axis=2)\n",
    "        train_X.append(img)\n",
    "         \n",
    "    if 'cat' in i:\n",
    "        if cat_count >= cnt:\n",
    "            break\n",
    "        cat_count+=1    \n",
    "        labels.append(0)\n",
    "        img = cv2.imread( 'train/' + i,cv2.IMREAD_COLOR)\n",
    "        #img = np.expand_dims(img, axis=2)\n",
    "        img = cv2.resize(img , (ROWS,COLS) , interpolation=cv2.INTER_CUBIC)\n",
    "        train_X.append(img)"
   ]
  },
  {
   "cell_type": "code",
   "execution_count": 6,
   "metadata": {
    "_uuid": "368cef369d1bb0f1eee3426f89cd4a0da9e844a1",
    "collapsed": true
   },
   "outputs": [],
   "source": [
    "train_X , test_X , labels_train, labels_test = train_test_split( train_X,labels ,stratify=labels, test_size=0.125)"
   ]
  },
  {
   "cell_type": "code",
   "execution_count": 7,
   "metadata": {
    "_uuid": "e4a91b6e7bf04cd7534f58095cc59f3728820aae"
   },
   "outputs": [
    {
     "name": "stdout",
     "output_type": "stream",
     "text": [
      "(128, 128, 3)\n"
     ]
    }
   ],
   "source": [
    "print(train_X[0].shape)"
   ]
  },
  {
   "cell_type": "code",
   "execution_count": 8,
   "metadata": {
    "_uuid": "91fccf178d59ee93ca9c5d3d22cfaa347a101330",
    "collapsed": true
   },
   "outputs": [],
   "source": [
    "#labels_train = to_categorical(labels_train)\n",
    "labels_train=np.array(labels_train)\n",
    "\n",
    "#labels_test = to_categorical(labels_test)\n",
    "labels_test=np.array(labels_test)"
   ]
  },
  {
   "cell_type": "code",
   "execution_count": 9,
   "metadata": {
    "_uuid": "4a684eaf5f525eb4487d4e5c323ab44d3f08758e"
   },
   "outputs": [
    {
     "name": "stdout",
     "output_type": "stream",
     "text": [
      "13943\n",
      "15935\n"
     ]
    }
   ],
   "source": [
    "print(len(train_X))\n",
    "print(len(labels))"
   ]
  },
  {
   "cell_type": "code",
   "execution_count": 10,
   "metadata": {
    "_uuid": "ba45ff9a3f08c2b169230a5aa0f68a30aef78f1b"
   },
   "outputs": [
    {
     "data": {
      "text/plain": [
       "'\\ntrain_X = (train_X - np.mean(train_X)  ) / np.var(train_X)\\ntest_X = (test_X - np.mean(train_X)  ) / np.var(train_X)\\n'"
      ]
     },
     "execution_count": 10,
     "metadata": {},
     "output_type": "execute_result"
    }
   ],
   "source": [
    "#normalize\n",
    "'''\n",
    "train_X = (train_X - np.mean(train_X)  ) / np.var(train_X)\n",
    "test_X = (test_X - np.mean(train_X)  ) / np.var(train_X)\n",
    "'''"
   ]
  },
  {
   "cell_type": "code",
   "execution_count": 11,
   "metadata": {
    "_uuid": "9b729e5a70ce94d052fd5aacdd171d8d665577ee",
    "collapsed": true
   },
   "outputs": [],
   "source": [
    "#train_X = np.expand_dims( train_X , axis=4 )"
   ]
  },
  {
   "cell_type": "code",
   "execution_count": 12,
   "metadata": {
    "_uuid": "90ec07cb020205e94be4c14bd471fd7f10b41018",
    "collapsed": true
   },
   "outputs": [],
   "source": [
    "train_X = np.array(train_X)\n",
    "test_X = np.array(test_X)"
   ]
  },
  {
   "cell_type": "code",
   "execution_count": 13,
   "metadata": {
    "_uuid": "bf88408370af31f8088328a808612f350acd0663"
   },
   "outputs": [
    {
     "name": "stdout",
     "output_type": "stream",
     "text": [
      "(13943, 128, 128, 3)\n"
     ]
    }
   ],
   "source": [
    "print(train_X.shape)"
   ]
  },
  {
   "cell_type": "code",
   "execution_count": 14,
   "metadata": {
    "_uuid": "0eeeffce62365a3277b236b1e52f02e75b4a9640",
    "collapsed": true
   },
   "outputs": [],
   "source": [
    "train_X = train_X / 255.0\n",
    "test_X = test_X / 255.0"
   ]
  },
  {
   "cell_type": "code",
   "execution_count": 15,
   "metadata": {
    "_uuid": "568308fe5fad5c33b7a5e93ff382c7d9c1dfa3d5"
   },
   "outputs": [
    {
     "data": {
      "text/plain": [
       "\"\\nmodel.add(Conv2D(64, kernel_size=(7, 7), strides=1 , padding='same', input_shape=(ROWS, COLS,1), activation='relu'))\\nmodel.add(MaxPool2D(pool_size=(2, 2)))\\n\\nmodel.add(Conv2D(128, kernel_size=(5, 5), padding='same', activation='relu'));'/;.\\nmodel.add(Conv2D(128, kernel_size=(5,5), padding='same', activation='relu'))\\nmodel.add(MaxPool2D(pool_size=(2, 2)))\\n    \\nmodel.add(Conv2D(1024, kernel_size=(3, 3), padding='same', activation='relu'))\\nmodel.add(Conv2D(1024, kernel_size=(3, 3), padding='same', activation='relu'))\\nmodel.add(MaxPool2D(pool_size=(2, 2)))\\n\\n    \\nmodel.add(Conv2D(1024, kernel_size=(3, 3), padding='same', activation='relu'))\\nmodel.add(Conv2D(1024, kernel_size=(3, 3), padding='same', activation='relu'))\\nmodel.add(MaxPool2D(pool_size=(2, 2)))\\n\\nmodel.add(Conv2D(256, kernel_size=(1,1), padding='same', activation='relu'))\\nmodel.add(MaxPool2D(pool_size=(2, 2)))\\n\\n#     model.add(Convolution2D(256, 3, 3, border_mode='same', activation='relu'))\\n#     model.add(Convolution2D(256, 3, 3, border_mode='same', activation='relu'))\\n#     model.add(Convolution2D(256, 3, 3, border_mode='same', activation='relu'))\\n#     model.add(MaxPooling2D(pool_size=(2, 2)))\\n\\nmodel.add(Flatten())\\nmodel.add(Dense(512, activation='sigmoid'))    \\nmodel.add(Dense(128, activation='sigmoid'))\\nmodel.add(Dense(2,activation='softmax'))\\n\\nmodel.compile(optimizer='adam' ,loss='categorical_crossentropy', metrics=['accuracy'])\\nmodel.summary()\\n\""
      ]
     },
     "execution_count": 15,
     "metadata": {},
     "output_type": "execute_result"
    }
   ],
   "source": [
    "\n",
    "'''\n",
    "model.add( Conv2D(filters=64, kernel_size=(5,5) ,activation='relu',\n",
    "                  input_shape=(ROWS,COLS,3),padding='same' ) )\n",
    "model.add( Conv2D(filters=64, kernel_size=(5,5) ,activation='relu',padding='same' ) )\n",
    "model.add(MaxPool2D(pool_size = (2,2)))\n",
    "model.add(Dropout(0.25))\n",
    "\n",
    "\n",
    "model.add( Conv2D(filters=32, kernel_size=(4,4) ,activation='relu',padding='same' ) )\n",
    "model.add( Conv2D(filters=32, kernel_size=(4,4) ,activation='relu',padding='same' ) )\n",
    "model.add(MaxPool2D(pool_size = (2,2)))\n",
    "model.add(Dropout(0.25))\n",
    "\n",
    "model.add( Conv2D(filters=32, kernel_size=(5,5) ,activation='relu',padding='same' ) )\n",
    "model.add( Conv2D(filters=32, kernel_size=(5,5) ,activation='relu' ,padding='same') )\n",
    "\n",
    "model.add(Flatten())\n",
    "model.add(Dense(64,activation='relu'))\n",
    "model.add(Dense(16,activation='relu'))\n",
    "model.add(Dense(1,activation='sigmoid'))\n",
    "\n",
    "'''\n",
    "\n",
    "'''\n",
    "model.add(Conv2D(64, kernel_size=(7, 7), strides=1 , padding='same', input_shape=(ROWS, COLS,1), activation='relu'))\n",
    "model.add(MaxPool2D(pool_size=(2, 2)))\n",
    "\n",
    "model.add(Conv2D(128, kernel_size=(5, 5), padding='same', activation='relu'));'/;.\n",
    "model.add(Conv2D(128, kernel_size=(5,5), padding='same', activation='relu'))\n",
    "model.add(MaxPool2D(pool_size=(2, 2)))\n",
    "    \n",
    "model.add(Conv2D(1024, kernel_size=(3, 3), padding='same', activation='relu'))\n",
    "model.add(Conv2D(1024, kernel_size=(3, 3), padding='same', activation='relu'))\n",
    "model.add(MaxPool2D(pool_size=(2, 2)))\n",
    "\n",
    "    \n",
    "model.add(Conv2D(1024, kernel_size=(3, 3), padding='same', activation='relu'))\n",
    "model.add(Conv2D(1024, kernel_size=(3, 3), padding='same', activation='relu'))\n",
    "model.add(MaxPool2D(pool_size=(2, 2)))\n",
    "\n",
    "model.add(Conv2D(256, kernel_size=(1,1), padding='same', activation='relu'))\n",
    "model.add(MaxPool2D(pool_size=(2, 2)))\n",
    "\n",
    "#     model.add(Convolution2D(256, 3, 3, border_mode='same', activation='relu'))\n",
    "#     model.add(Convolution2D(256, 3, 3, border_mode='same', activation='relu'))\n",
    "#     model.add(Convolution2D(256, 3, 3, border_mode='same', activation='relu'))\n",
    "#     model.add(MaxPooling2D(pool_size=(2, 2)))\n",
    "\n",
    "model.add(Flatten())\n",
    "model.add(Dense(512, activation='sigmoid'))    \n",
    "model.add(Dense(128, activation='sigmoid'))\n",
    "model.add(Dense(2,activation='softmax'))\n",
    "\n",
    "model.compile(optimizer='adam' ,loss='categorical_crossentropy', metrics=['accuracy'])\n",
    "model.summary()\n",
    "'''\n"
   ]
  },
  {
   "cell_type": "code",
   "execution_count": 16,
   "metadata": {
    "_uuid": "18cbdd25590051c0f0c0c52559ae95a91cf733c1",
    "collapsed": true
   },
   "outputs": [],
   "source": [
    "#we'll use xception net with imagenet config\n",
    "from keras.applications.xception import Xception\n",
    "from keras.models import Model\n",
    "from keras.layers import GlobalAveragePooling2D\n",
    "base_model = Xception(weights='imagenet' ,include_top = False,input_shape = (ROWS,COLS,3))\n",
    "                                                                            \n",
    "x = base_model.output\n",
    "x = GlobalAveragePooling2D()(x)\n",
    "x = Dense( 512 ,activation='sigmoid')(x)\n",
    "x= Dropout(0.5)(x)\n",
    "predictions = Dense( 1 ,activation='sigmoid')(x)\n",
    "\n",
    "model = Model(inputs=base_model.input, outputs=predictions)\n",
    "\n",
    "for layer in base_model.layers:\n",
    "        layer.trainable = False\n",
    "        \n",
    "model.compile(optimizer='adam',loss='binary_crossentropy',metrics=['accuracy'])"
   ]
  },
  {
   "cell_type": "code",
   "execution_count": null,
   "metadata": {
    "_uuid": "e824a48594cd49811a700ff14899ba43aa750d95",
    "collapsed": true
   },
   "outputs": [],
   "source": []
  },
  {
   "cell_type": "code",
   "execution_count": 17,
   "metadata": {
    "_uuid": "4c6954051b84039c26971fdddbc1251baf0068c6"
   },
   "outputs": [
    {
     "name": "stdout",
     "output_type": "stream",
     "text": [
      "(?, 4, 4, 2048)\n"
     ]
    }
   ],
   "source": [
    "print(base_model.output.shape)"
   ]
  },
  {
   "cell_type": "code",
   "execution_count": 18,
   "metadata": {
    "_uuid": "3bfd0307086615edfeffaa1a484d72bd68aa7078"
   },
   "outputs": [
    {
     "name": "stdout",
     "output_type": "stream",
     "text": [
      "Epoch 1/1\n",
      "436/435 [==============================] - 2581s - loss: 0.4642 - acc: 0.7625  \n"
     ]
    },
    {
     "data": {
      "text/plain": [
       "<keras.callbacks.History at 0x7fae3da0ae80>"
      ]
     },
     "execution_count": 18,
     "metadata": {},
     "output_type": "execute_result"
    }
   ],
   "source": [
    "datagen = ImageDataGenerator(\n",
    "    featurewise_center=False,\n",
    "    featurewise_std_normalization=False,\n",
    "    rotation_range=20,\n",
    "    width_shift_range=0.2,\n",
    "    height_shift_range=0.2,\n",
    "    horizontal_flip=True)\n",
    "\n",
    "\n",
    "model.fit_generator(datagen.flow(train_X, labels_train , batch_size=32),\n",
    "                    steps_per_epoch=len(train_X) / 32, epochs=1, verbose = 1)"
   ]
  },
  {
   "cell_type": "code",
   "execution_count": 19,
   "metadata": {
    "_uuid": "59d6e0ae7c1bac6241ed86e611d3ebf9939a3a88"
   },
   "outputs": [
    {
     "name": "stdout",
     "output_type": "stream",
     "text": [
      "1992/1992 [==============================] - 424s   \n"
     ]
    }
   ],
   "source": [
    "#Lets evaluate accuracy on test set\n",
    "score = model.evaluate(x=test_X , y=labels_test)\n"
   ]
  },
  {
   "cell_type": "code",
   "execution_count": 20,
   "metadata": {
    "_uuid": "d1eb1d37ca21afd51332660a9ed316516aa36ab5"
   },
   "outputs": [
    {
     "name": "stdout",
     "output_type": "stream",
     "text": [
      "87.1987951807\n"
     ]
    }
   ],
   "source": [
    "print(score[1]*100)"
   ]
  },
  {
   "cell_type": "code",
   "execution_count": 21,
   "metadata": {
    "_uuid": "a3df842443270b4e0a83baeae7911f5a4b49968c"
   },
   "outputs": [
    {
     "ename": "MemoryError",
     "evalue": "",
     "output_type": "error",
     "traceback": [
      "\u001b[0;31m---------------------------------------------------------------------------\u001b[0m",
      "\u001b[0;31mMemoryError\u001b[0m                               Traceback (most recent call last)",
      "\u001b[0;32m<ipython-input-21-21837682ecde>\u001b[0m in \u001b[0;36m<module>\u001b[0;34m()\u001b[0m\n\u001b[1;32m      7\u001b[0m \u001b[0;34m\u001b[0m\u001b[0m\n\u001b[1;32m      8\u001b[0m \u001b[0mpred_X\u001b[0m \u001b[0;34m=\u001b[0m \u001b[0mnp\u001b[0m\u001b[0;34m.\u001b[0m\u001b[0marray\u001b[0m\u001b[0;34m(\u001b[0m\u001b[0mpred_X\u001b[0m\u001b[0;34m)\u001b[0m\u001b[0;34m\u001b[0m\u001b[0m\n\u001b[0;32m----> 9\u001b[0;31m \u001b[0mpred_X\u001b[0m \u001b[0;34m=\u001b[0m \u001b[0mpred_X\u001b[0m \u001b[0;34m/\u001b[0m \u001b[0;36m255.0\u001b[0m\u001b[0;34m\u001b[0m\u001b[0m\n\u001b[0m",
      "\u001b[0;31mMemoryError\u001b[0m: "
     ]
    }
   ],
   "source": [
    "pred_X = []\n",
    "for i in os.listdir('test'):\n",
    "    img = cv2.imread( 'test/' +i , cv2.IMREAD_COLOR)\n",
    "    img = cv2.resize(img , (ROWS,COLS) , interpolation=cv2.INTER_CUBIC)\n",
    "    pred_X.append(img)\n",
    "        \n",
    "    \n",
    "pred_X = np.array(pred_X)         \n",
    "pred_X = pred_X / 255.0"
   ]
  },
  {
   "cell_type": "code",
   "execution_count": null,
   "metadata": {
    "_uuid": "886309aa665ddaab3a1e8b6facc053571f8438af",
    "collapsed": true
   },
   "outputs": [],
   "source": [
    "pred_Y = model.predict(pred_X)"
   ]
  },
  {
   "cell_type": "code",
   "execution_count": null,
   "metadata": {
    "_uuid": "c8268f9980cf014eb2485ca0358b987271415e8f",
    "collapsed": true
   },
   "outputs": [],
   "source": [
    "print(pred_Y)"
   ]
  }
 ],
 "metadata": {
  "kernelspec": {
   "display_name": "Python 3",
   "language": "python",
   "name": "python3"
  },
  "language_info": {
   "codemirror_mode": {
    "name": "ipython",
    "version": 3
   },
   "file_extension": ".py",
   "mimetype": "text/x-python",
   "name": "python",
   "nbconvert_exporter": "python",
   "pygments_lexer": "ipython3",
   "version": "3.6.1"
  }
 },
 "nbformat": 4,
 "nbformat_minor": 1
}
